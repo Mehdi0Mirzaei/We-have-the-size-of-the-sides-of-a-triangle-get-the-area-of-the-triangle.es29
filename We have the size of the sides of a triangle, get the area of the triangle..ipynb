{
 "cells": [
  {
   "cell_type": "code",
   "execution_count": 8,
   "id": "559591af",
   "metadata": {},
   "outputs": [],
   "source": [
    "a=5\n",
    "b=6\n",
    "c=7"
   ]
  },
  {
   "cell_type": "code",
   "execution_count": 9,
   "id": "620be5ec",
   "metadata": {},
   "outputs": [
    {
     "name": "stdout",
     "output_type": "stream",
     "text": [
      "The area of triangle is 14.697\n"
     ]
    }
   ],
   "source": [
    "#This is how we act\n",
    "s=semi_primeter=(a+b+c)/2\n",
    "#The size of the area is equal to:\n",
    "area=(s*(s-a)*(s-b)*(s-c))**.5\n",
    "print(\"The area of triangle is %.3f\"%area)"
   ]
  }
 ],
 "metadata": {
  "kernelspec": {
   "display_name": "Python 3 (ipykernel)",
   "language": "python",
   "name": "python3"
  },
  "language_info": {
   "codemirror_mode": {
    "name": "ipython",
    "version": 3
   },
   "file_extension": ".py",
   "mimetype": "text/x-python",
   "name": "python",
   "nbconvert_exporter": "python",
   "pygments_lexer": "ipython3",
   "version": "3.9.17"
  }
 },
 "nbformat": 4,
 "nbformat_minor": 5
}
